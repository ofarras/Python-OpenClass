{
 "cells": [
  {
   "cell_type": "code",
   "execution_count": 1,
   "metadata": {
    "collapsed": true
   },
   "outputs": [
    {
     "name": "stdout",
     "output_type": "stream",
     "text": [
      "Hola Mundo\n"
     ]
    }
   ],
   "source": [
    "print (\"Hola Mundo\")"
   ]
  },
  {
   "cell_type": "code",
   "execution_count": 3,
   "metadata": {
    "collapsed": true
   },
   "outputs": [
    {
     "name": "stdout",
     "output_type": "stream",
     "text": [
      "Enero, Febrero, Marzo,..., Diciembre\n"
     ]
    }
   ],
   "source": [
    "print (\"Enero, Febrero, Marzo,..., Diciembre\")"
   ]
  },
  {
   "cell_type": "code",
   "execution_count": 1,
   "metadata": {
    "collapsed": true
   },
   "outputs": [
    {
     "name": "stdout",
     "output_type": "stream",
     "text": [
      "5\n"
     ]
    }
   ],
   "source": [
    "variable = 5\n",
    "print (variable)"
   ]
  },
  {
   "cell_type": "code",
   "execution_count": 7,
   "metadata": {
    "collapsed": true
   },
   "outputs": [
    {
     "name": "stdout",
     "output_type": "stream",
     "text": [
      "5\n"
     ]
    }
   ],
   "source": [
    "variable = 5\n",
    "print (variable)\n",
    "# Esto imprimirá 5"
   ]
  },
  {
   "cell_type": "code",
   "execution_count": 8,
   "metadata": {
    "collapsed": true
   },
   "outputs": [
    {
     "name": "stdout",
     "output_type": "stream",
     "text": [
      "1\n",
      "dos\n",
      "3\n"
     ]
    }
   ],
   "source": [
    "primera_variable, segunda_variable, tercera_variable = 1, \"dos\", 3\n",
    "print (primera_variable)\n",
    "print (segunda_variable)\n",
    "print (tercera_variable)"
   ]
  },
  {
   "cell_type": "code",
   "execution_count": 10,
   "metadata": {
    "collapsed": true
   },
   "outputs": [
    {
     "name": "stdout",
     "output_type": "stream",
     "text": [
      "12\n"
     ]
    }
   ],
   "source": [
    "numero = 5\n",
    "resultado = numero + 7\n",
    "print (resultado)"
   ]
  },
  {
   "cell_type": "code",
   "execution_count": 11,
   "metadata": {
    "collapsed": true
   },
   "outputs": [
    {
     "name": "stdout",
     "output_type": "stream",
     "text": [
      "13\n",
      "HolaMundo\n"
     ]
    }
   ],
   "source": [
    "primer_numero = 5\n",
    "segundo_numero = 8\n",
    "suma = primer_numero + segundo_numero\n",
    "print (suma)\n",
    "\n",
    "primera_cadena = \"Hola\"\n",
    "segunda_cadena = \"Mundo\"\n",
    "union = primera_cadena + segunda_cadena\n",
    "\n",
    "print (union)"
   ]
  },
  {
   "cell_type": "code",
   "execution_count": 13,
   "metadata": {
    "collapsed": true
   },
   "outputs": [
    {
     "ename": "TypeError",
     "evalue": "unsupported operand type(s) for +: 'int' and 'str'",
     "output_type": "error",
     "traceback": [
      "\u001b[1;31m---------------------------------------------------------------------------\u001b[0m",
      "\u001b[1;31mTypeError\u001b[0m                                 Traceback (most recent call last)",
      "\u001b[1;32m<ipython-input-13-1152530ee558>\u001b[0m in \u001b[0;36m<module>\u001b[1;34m\u001b[0m\n\u001b[0;32m      2\u001b[0m \u001b[0mcadena\u001b[0m \u001b[1;33m=\u001b[0m \u001b[1;34m\"Hola\"\u001b[0m\u001b[1;33m\u001b[0m\u001b[1;33m\u001b[0m\u001b[0m\n\u001b[0;32m      3\u001b[0m \u001b[1;33m\u001b[0m\u001b[0m\n\u001b[1;32m----> 4\u001b[1;33m \u001b[0munion\u001b[0m \u001b[1;33m=\u001b[0m \u001b[0mnumero\u001b[0m \u001b[1;33m+\u001b[0m \u001b[0mcadena\u001b[0m\u001b[1;33m\u001b[0m\u001b[1;33m\u001b[0m\u001b[0m\n\u001b[0m\u001b[0;32m      5\u001b[0m \u001b[0mprint\u001b[0m \u001b[1;33m(\u001b[0m\u001b[0munion\u001b[0m\u001b[1;33m)\u001b[0m\u001b[1;33m\u001b[0m\u001b[1;33m\u001b[0m\u001b[0m\n",
      "\u001b[1;31mTypeError\u001b[0m: unsupported operand type(s) for +: 'int' and 'str'"
     ]
    }
   ],
   "source": [
    "numero = 5\n",
    "cadena = \"Hola\"\n",
    "\n",
    "union = numero + cadena\n",
    "print (union)"
   ]
  },
  {
   "cell_type": "code",
   "execution_count": 22,
   "metadata": {
    "collapsed": true
   },
   "outputs": [
    {
     "name": "stdout",
     "output_type": "stream",
     "text": [
      "<class 'str'>\n",
      "<class 'float'>\n",
      "<class 'int'>\n",
      "<class 'int'>\n"
     ]
    }
   ],
   "source": [
    "texto = \"10\"\n",
    "decimal = 21.15\n",
    "un_entero = int (texto)\n",
    "print (type(texto))\n",
    "print (type(decimal))\n",
    "print (type(un_entero))\n",
    "print (type(int(decimal)))\n",
    "\n"
   ]
  },
  {
   "cell_type": "code",
   "execution_count": 24,
   "metadata": {
    "collapsed": true
   },
   "outputs": [
    {
     "data": {
      "text/plain": [
       "2"
      ]
     },
     "execution_count": 24,
     "metadata": {},
     "output_type": "execute_result"
    }
   ],
   "source": [
    "int(2.7)"
   ]
  },
  {
   "cell_type": "code",
   "execution_count": 26,
   "metadata": {
    "collapsed": true
   },
   "outputs": [
    {
     "data": {
      "text/plain": [
       "2.0"
      ]
     },
     "execution_count": 26,
     "metadata": {},
     "output_type": "execute_result"
    }
   ],
   "source": [
    "float(2)"
   ]
  },
  {
   "cell_type": "code",
   "execution_count": 27,
   "metadata": {
    "collapsed": true
   },
   "outputs": [
    {
     "data": {
      "text/plain": [
       "3"
      ]
     },
     "execution_count": 27,
     "metadata": {},
     "output_type": "execute_result"
    }
   ],
   "source": [
    "round(2.7)"
   ]
  },
  {
   "cell_type": "code",
   "execution_count": 29,
   "metadata": {
    "collapsed": true
   },
   "outputs": [
    {
     "data": {
      "text/plain": [
       "'2'"
      ]
     },
     "execution_count": 29,
     "metadata": {},
     "output_type": "execute_result"
    }
   ],
   "source": [
    "str(2)"
   ]
  },
  {
   "cell_type": "code",
   "execution_count": 33,
   "metadata": {
    "collapsed": true
   },
   "outputs": [
    {
     "name": "stdout",
     "output_type": "stream",
     "text": [
      "0x1f4\n",
      "0o764\n"
     ]
    }
   ],
   "source": [
    "entero = 500\n",
    "hexadecimal = hex(entero)\n",
    "print(hexadecimal)\n",
    "\n",
    "octal = oct(entero)\n",
    "print(octal)"
   ]
  },
  {
   "cell_type": "code",
   "execution_count": 34,
   "metadata": {
    "collapsed": true
   },
   "outputs": [
    {
     "name": "stdout",
     "output_type": "stream",
     "text": [
      "10\n",
      "3\n",
      "13\n",
      "7\n",
      "30\n",
      "3.3333333333333335\n",
      "1000\n",
      "1\n",
      "3\n"
     ]
    }
   ],
   "source": [
    "primer_numero = 10\n",
    "segundo_numero = 3\n",
    "suma = primer_numero + segundo_numero\n",
    "resta = primer_numero - segundo_numero\n",
    "multiplicacion = primer_numero * segundo_numero\n",
    "division = primer_numero / segundo_numero\n",
    "potencia = primer_numero ** segundo_numero\n",
    "modulo = primer_numero % segundo_numero\n",
    "division_entera = primer_numero // segundo_numero\n",
    "\n",
    "print (primer_numero)\n",
    "print (segundo_numero)\n",
    "print(suma)\n",
    "print(resta)\n",
    "print(multiplicacion)\n",
    "print(division)\n",
    "print(potencia)\n",
    "print(modulo)\n",
    "print(division_entera)"
   ]
  },
  {
   "cell_type": "code",
   "execution_count": 1,
   "metadata": {
    "collapsed": true
   },
   "outputs": [
    {
     "name": "stdout",
     "output_type": "stream",
     "text": [
      "False\n",
      "True\n",
      "True\n",
      "False\n",
      "True\n"
     ]
    }
   ],
   "source": [
    "numero = 7\n",
    "texto = \"Hola Mundo\"\n",
    "print (3 == 2)\n",
    "print (3 > 2)\n",
    "print (texto == \"Hola Mundo\")\n",
    "print (texto == \"Hola mundo\")\n",
    "print (7 >= 6)"
   ]
  },
  {
   "cell_type": "code",
   "execution_count": 1,
   "metadata": {
    "collapsed": true
   },
   "outputs": [
    {
     "name": "stdout",
     "output_type": "stream",
     "text": [
      "Hola Mundo\n",
      "CoCoCoCo\n"
     ]
    }
   ],
   "source": [
    "saludo = \"Hola\"\n",
    "saludo += \" Mundo\"\n",
    "print (saludo)\n",
    "\n",
    "gallina =\"Co\"\n",
    "gallina = 4 * gallina\n",
    "print (gallina)"
   ]
  },
  {
   "cell_type": "code",
   "execution_count": 3,
   "metadata": {
    "collapsed": true
   },
   "outputs": [
    {
     "name": "stdout",
     "output_type": "stream",
     "text": [
      "False\n"
     ]
    }
   ],
   "source": [
    "variable1 = 6\n",
    "variable2 = 6.0\n",
    "\n",
    "print (variable1 is variable2)"
   ]
  },
  {
   "cell_type": "code",
   "execution_count": 5,
   "metadata": {
    "collapsed": true
   },
   "outputs": [
    {
     "name": "stdout",
     "output_type": "stream",
     "text": [
      "True\n"
     ]
    }
   ],
   "source": [
    "Lista = [\"silla\", \"mesa\", \"armario\", \"reloj\"]\n",
    "print (\"silla\" in Lista)"
   ]
  },
  {
   "cell_type": "code",
   "execution_count": 11,
   "metadata": {
    "collapsed": true
   },
   "outputs": [
    {
     "name": "stdout",
     "output_type": "stream",
     "text": [
      "False\n"
     ]
    }
   ],
   "source": [
    "print (\"ropero\" in Lista)"
   ]
  },
  {
   "cell_type": "code",
   "execution_count": 12,
   "metadata": {
    "collapsed": true
   },
   "outputs": [
    {
     "name": "stdout",
     "output_type": "stream",
     "text": [
      "['silla', 'mesa', 'armario', 'reloj']\n"
     ]
    }
   ],
   "source": [
    "print (Lista)"
   ]
  },
  {
   "cell_type": "code",
   "execution_count": 31,
   "metadata": {
    "collapsed": true
   },
   "outputs": [
    {
     "name": "stdout",
     "output_type": "stream",
     "text": [
      "['uno', 'dos', 'tres', 'cuatro']\n"
     ]
    }
   ],
   "source": [
    "lista = []\n",
    "lista = list((\"uno\", \"dos\", \"tres\", \"cuatro\"))\n",
    "print (lista)"
   ]
  },
  {
   "cell_type": "code",
   "execution_count": 16,
   "metadata": {
    "collapsed": true
   },
   "outputs": [
    {
     "name": "stdout",
     "output_type": "stream",
     "text": [
      "tres\n"
     ]
    }
   ],
   "source": [
    "print (lista[2])"
   ]
  },
  {
   "cell_type": "code",
   "execution_count": 18,
   "metadata": {},
   "outputs": [],
   "source": [
    "lista[2] = \"Nuevo Número\""
   ]
  },
  {
   "cell_type": "code",
   "execution_count": 19,
   "metadata": {
    "collapsed": true
   },
   "outputs": [
    {
     "name": "stdout",
     "output_type": "stream",
     "text": [
      "Nuevo Número\n"
     ]
    }
   ],
   "source": [
    "print (lista[2])"
   ]
  },
  {
   "cell_type": "code",
   "execution_count": 22,
   "metadata": {
    "collapsed": true
   },
   "outputs": [
    {
     "name": "stdout",
     "output_type": "stream",
     "text": [
      "[[1, 2, 3], ['a', 'b', 'c']]\n"
     ]
    }
   ],
   "source": [
    "lista = [[1, 2, 3], [\"a\", \"b\", \"c\"]]\n",
    "print (lista)"
   ]
  },
  {
   "cell_type": "code",
   "execution_count": 27,
   "metadata": {
    "collapsed": true
   },
   "outputs": [
    {
     "name": "stdout",
     "output_type": "stream",
     "text": [
      "3\n"
     ]
    }
   ],
   "source": [
    "print (lista [0] [2])"
   ]
  },
  {
   "cell_type": "code",
   "execution_count": 32,
   "metadata": {
    "collapsed": true
   },
   "outputs": [
    {
     "name": "stdout",
     "output_type": "stream",
     "text": [
      "o\n"
     ]
    }
   ],
   "source": [
    "print (lista [1] [1])"
   ]
  },
  {
   "cell_type": "code",
   "execution_count": 33,
   "metadata": {
    "collapsed": true
   },
   "outputs": [
    {
     "name": "stdout",
     "output_type": "stream",
     "text": [
      "['uno', 'dos', 'tres', 'cuatro']\n"
     ]
    }
   ],
   "source": [
    "lista = []\n",
    "lista = list((\"uno\", \"dos\", \"tres\", \"cuatro\"))\n",
    "print (lista)"
   ]
  },
  {
   "cell_type": "code",
   "execution_count": 36,
   "metadata": {
    "collapsed": true
   },
   "outputs": [
    {
     "data": {
      "text/plain": [
       "['dos', 'tres', 'cuatro']"
      ]
     },
     "execution_count": 36,
     "metadata": {},
     "output_type": "execute_result"
    }
   ],
   "source": [
    "lista [1:4]"
   ]
  },
  {
   "cell_type": "code",
   "execution_count": 2,
   "metadata": {},
   "outputs": [],
   "source": [
    "lista = [1,2,3,4,5,6,7,8,9,10,11,12,13,14,15,16,17]"
   ]
  },
  {
   "cell_type": "code",
   "execution_count": 3,
   "metadata": {
    "collapsed": true
   },
   "outputs": [
    {
     "name": "stdout",
     "output_type": "stream",
     "text": [
      "[3, 4, 5, 6, 7, 8, 9, 10, 11, 12, 13, 14, 15]\n"
     ]
    }
   ],
   "source": [
    "print(lista[2:15])"
   ]
  },
  {
   "cell_type": "code",
   "execution_count": 4,
   "metadata": {
    "collapsed": true
   },
   "outputs": [
    {
     "name": "stdout",
     "output_type": "stream",
     "text": [
      "[3, 5, 7, 9, 11, 13, 15]\n"
     ]
    }
   ],
   "source": [
    "print (lista[2:15:2])"
   ]
  },
  {
   "cell_type": "code",
   "execution_count": 6,
   "metadata": {},
   "outputs": [],
   "source": [
    "tupla = \"primero\", \"segundo\", \"tercero\", \"cuarto\", \"quinto\""
   ]
  },
  {
   "cell_type": "code",
   "execution_count": 8,
   "metadata": {
    "collapsed": true
   },
   "outputs": [
    {
     "name": "stdout",
     "output_type": "stream",
     "text": [
      "('primero', 'segundo', 'tercero', 'cuarto', 'quinto')\n"
     ]
    }
   ],
   "source": [
    "print (tupla)"
   ]
  },
  {
   "cell_type": "code",
   "execution_count": 10,
   "metadata": {
    "collapsed": true
   },
   "outputs": [
    {
     "name": "stdout",
     "output_type": "stream",
     "text": [
      "tercero\n"
     ]
    }
   ],
   "source": [
    "print (tupla[2])"
   ]
  },
  {
   "cell_type": "code",
   "execution_count": 12,
   "metadata": {
    "collapsed": true
   },
   "outputs": [
    {
     "name": "stdout",
     "output_type": "stream",
     "text": [
      "('segundo', 'tercero')\n"
     ]
    }
   ],
   "source": [
    "print (tupla[1:3])"
   ]
  },
  {
   "cell_type": "code",
   "execution_count": 14,
   "metadata": {},
   "outputs": [],
   "source": [
    "cadena = \"Hola Mundo\""
   ]
  },
  {
   "cell_type": "code",
   "execution_count": 16,
   "metadata": {
    "collapsed": true
   },
   "outputs": [
    {
     "name": "stdout",
     "output_type": "stream",
     "text": [
      "o\n"
     ]
    }
   ],
   "source": [
    "print (cadena [1])"
   ]
  },
  {
   "cell_type": "code",
   "execution_count": 19,
   "metadata": {
    "collapsed": true
   },
   "outputs": [
    {
     "name": "stdout",
     "output_type": "stream",
     "text": [
      "ola \n"
     ]
    }
   ],
   "source": [
    "print (cadena [1:5])"
   ]
  },
  {
   "cell_type": "code",
   "execution_count": 21,
   "metadata": {
    "collapsed": true
   },
   "outputs": [
    {
     "name": "stdout",
     "output_type": "stream",
     "text": [
      "Hl ud\n"
     ]
    }
   ],
   "source": [
    "print (cadena [0:10:2])"
   ]
  },
  {
   "cell_type": "code",
   "execution_count": 23,
   "metadata": {},
   "outputs": [],
   "source": [
    "diccionario = {\"animal\": \"gato\", \"cosa\": \"piedra\", \"planta\": \"lechuga\"}"
   ]
  },
  {
   "cell_type": "code",
   "execution_count": 24,
   "metadata": {
    "collapsed": true
   },
   "outputs": [
    {
     "name": "stdout",
     "output_type": "stream",
     "text": [
      "{'animal': 'gato', 'cosa': 'piedra', 'planta': 'lechuga'}\n"
     ]
    }
   ],
   "source": [
    "print (diccionario)"
   ]
  },
  {
   "cell_type": "code",
   "execution_count": 25,
   "metadata": {
    "collapsed": true
   },
   "outputs": [
    {
     "name": "stdout",
     "output_type": "stream",
     "text": [
      "gato\n"
     ]
    }
   ],
   "source": [
    "print (diccionario [\"animal\"])"
   ]
  },
  {
   "cell_type": "code",
   "execution_count": 28,
   "metadata": {
    "collapsed": true
   },
   "outputs": [
    {
     "name": "stdout",
     "output_type": "stream",
     "text": [
      "piedra\n"
     ]
    }
   ],
   "source": [
    "print (diccionario [\"cosa\"])"
   ]
  },
  {
   "cell_type": "code",
   "execution_count": 29,
   "metadata": {
    "collapsed": true
   },
   "outputs": [
    {
     "name": "stdout",
     "output_type": "stream",
     "text": [
      "lechuga\n"
     ]
    }
   ],
   "source": [
    "print (diccionario [\"planta\"])"
   ]
  },
  {
   "cell_type": "code",
   "execution_count": 30,
   "metadata": {},
   "outputs": [],
   "source": [
    "diccionario [\"planta\"] = \"coliflor\""
   ]
  },
  {
   "cell_type": "code",
   "execution_count": 32,
   "metadata": {
    "collapsed": true
   },
   "outputs": [
    {
     "name": "stdout",
     "output_type": "stream",
     "text": [
      "coliflor\n"
     ]
    }
   ],
   "source": [
    "print (diccionario [\"planta\"])"
   ]
  },
  {
   "cell_type": "code",
   "execution_count": 33,
   "metadata": {},
   "outputs": [],
   "source": [
    "cubiertos = {\"tenedor\", \"cuchara\", \"cuchillo\", \"cucharilla\"}"
   ]
  },
  {
   "cell_type": "code",
   "execution_count": 35,
   "metadata": {},
   "outputs": [],
   "source": [
    "vajilla = set ([\"plato\", \"taza\", \"copa\"])"
   ]
  },
  {
   "cell_type": "code",
   "execution_count": 36,
   "metadata": {
    "collapsed": true
   },
   "outputs": [
    {
     "name": "stdout",
     "output_type": "stream",
     "text": [
      "{'tenedor', 'cucharilla', 'cuchara', 'cuchillo'}\n"
     ]
    }
   ],
   "source": [
    "print (cubiertos)"
   ]
  },
  {
   "cell_type": "code",
   "execution_count": 37,
   "metadata": {
    "collapsed": true
   },
   "outputs": [
    {
     "name": "stdout",
     "output_type": "stream",
     "text": [
      "{'plato', 'taza', 'copa'}\n"
     ]
    }
   ],
   "source": [
    "print (vajilla)"
   ]
  },
  {
   "cell_type": "code",
   "execution_count": 38,
   "metadata": {},
   "outputs": [],
   "source": [
    "variable1 = \"Hola\""
   ]
  },
  {
   "cell_type": "code",
   "execution_count": 39,
   "metadata": {},
   "outputs": [],
   "source": [
    "variable2 = variable1"
   ]
  },
  {
   "cell_type": "code",
   "execution_count": 40,
   "metadata": {},
   "outputs": [],
   "source": [
    "variable3 = \"adios\""
   ]
  },
  {
   "cell_type": "code",
   "execution_count": 42,
   "metadata": {
    "collapsed": true
   },
   "outputs": [
    {
     "name": "stdout",
     "output_type": "stream",
     "text": [
      "2132478190768\n"
     ]
    }
   ],
   "source": [
    "print (id(variable1))"
   ]
  },
  {
   "cell_type": "code",
   "execution_count": 43,
   "metadata": {
    "collapsed": true
   },
   "outputs": [
    {
     "name": "stdout",
     "output_type": "stream",
     "text": [
      "2132478190768\n"
     ]
    }
   ],
   "source": [
    "print (id(variable2))"
   ]
  },
  {
   "cell_type": "code",
   "execution_count": 45,
   "metadata": {
    "collapsed": true
   },
   "outputs": [
    {
     "name": "stdout",
     "output_type": "stream",
     "text": [
      "2132478970416\n"
     ]
    }
   ],
   "source": [
    "print (id(variable3))"
   ]
  },
  {
   "cell_type": "code",
   "execution_count": 47,
   "metadata": {
    "collapsed": true
   },
   "outputs": [
    {
     "name": "stdout",
     "output_type": "stream",
     "text": [
      "la variable es mayor que 5\n",
      "esto se muestra siempre.\n"
     ]
    }
   ],
   "source": [
    "variable = 7\n",
    "if variable > 5:\n",
    "    print (\"la variable es mayor que 5\")\n",
    "print (\"esto se muestra siempre.\")"
   ]
  },
  {
   "cell_type": "code",
   "execution_count": 48,
   "metadata": {
    "collapsed": true
   },
   "outputs": [
    {
     "name": "stdout",
     "output_type": "stream",
     "text": [
      "print la variable es menor que 3\n"
     ]
    }
   ],
   "source": [
    "variable = 2\n",
    "if variable > 3:\n",
    "    print (\"La variable es mayor que 3\")\n",
    "else:\n",
    "    print (\"print la variable es menor que 3\") "
   ]
  },
  {
   "cell_type": "code",
   "execution_count": 49,
   "metadata": {
    "collapsed": true
   },
   "outputs": [
    {
     "name": "stdout",
     "output_type": "stream",
     "text": [
      "La variable es menor que 3.\n"
     ]
    }
   ],
   "source": [
    "variable = 2\n",
    "if variable > 3:\n",
    "    print (\"La variable es mayor que 3.\")\n",
    "    print (\"No está mal\")\n",
    "elif variable < 3:\n",
    "    print (\"La variable es menor que 3.\")\n",
    "else: \n",
    "    print (\"La variable es 3.\")"
   ]
  },
  {
   "cell_type": "code",
   "execution_count": 2,
   "metadata": {
    "collapsed": true
   },
   "outputs": [
    {
     "name": "stdout",
     "output_type": "stream",
     "text": [
      "1\n",
      "2\n",
      "3\n",
      "4\n",
      "5\n",
      "6\n",
      "7\n",
      "8\n",
      "9\n",
      "10\n"
     ]
    }
   ],
   "source": [
    "a = 0\n",
    "\n",
    "while a < 10:\n",
    "    a = a + 1\n",
    "    print (a)"
   ]
  },
  {
   "cell_type": "code",
   "execution_count": 3,
   "metadata": {
    "collapsed": true
   },
   "outputs": [
    {
     "name": "stdout",
     "output_type": "stream",
     "text": [
      "1\n",
      "2\n"
     ]
    }
   ],
   "source": [
    "a = 0\n",
    "\n",
    "while a < 10:\n",
    "    a = a + 1\n",
    "    if a == 3:\n",
    "        break\n",
    "    print (a)"
   ]
  },
  {
   "cell_type": "code",
   "execution_count": 4,
   "metadata": {
    "collapsed": true
   },
   "outputs": [
    {
     "name": "stdout",
     "output_type": "stream",
     "text": [
      "1\n",
      "2\n",
      "4\n",
      "5\n",
      "6\n",
      "7\n",
      "8\n",
      "9\n",
      "10\n"
     ]
    }
   ],
   "source": [
    "a = 0\n",
    "\n",
    "while a < 10:\n",
    "    a = a + 1\n",
    "    if a == 3:\n",
    "        continue\n",
    "    print (a)"
   ]
  },
  {
   "cell_type": "code",
   "execution_count": 5,
   "metadata": {
    "collapsed": true
   },
   "outputs": [
    {
     "name": "stdout",
     "output_type": "stream",
     "text": [
      "Tabla del 3\n",
      "3 X 1 = 3\n",
      "3 X 2 = 6\n",
      "3 X 3 = 9\n",
      "3 X 4 = 12\n",
      "3 X 5 = 15\n",
      "3 X 6 = 18\n",
      "3 X 7 = 21\n",
      "3 X 8 = 24\n",
      "3 X 9 = 27\n",
      "3 X 10 = 30\n",
      "Tabla del 4\n",
      "4 X 1 = 4\n",
      "4 X 2 = 8\n",
      "4 X 3 = 12\n",
      "4 X 4 = 16\n",
      "4 X 5 = 20\n",
      "4 X 6 = 24\n",
      "4 X 7 = 28\n",
      "4 X 8 = 32\n",
      "4 X 9 = 36\n",
      "4 X 10 = 40\n",
      "Tabla del 5\n",
      "5 X 1 = 5\n",
      "5 X 2 = 10\n",
      "5 X 3 = 15\n",
      "5 X 4 = 20\n",
      "5 X 5 = 25\n",
      "5 X 6 = 30\n",
      "5 X 7 = 35\n",
      "5 X 8 = 40\n",
      "5 X 9 = 45\n",
      "5 X 10 = 50\n",
      "Tabla del 6\n",
      "6 X 1 = 6\n",
      "6 X 2 = 12\n",
      "6 X 3 = 18\n",
      "6 X 4 = 24\n",
      "6 X 5 = 30\n",
      "6 X 6 = 36\n",
      "6 X 7 = 42\n",
      "6 X 8 = 48\n",
      "6 X 9 = 54\n",
      "6 X 10 = 60\n",
      "Tabla del 7\n",
      "7 X 1 = 7\n",
      "7 X 2 = 14\n",
      "7 X 3 = 21\n",
      "7 X 4 = 28\n",
      "7 X 5 = 35\n",
      "7 X 6 = 42\n",
      "7 X 7 = 49\n",
      "7 X 8 = 56\n",
      "7 X 9 = 63\n",
      "7 X 10 = 70\n",
      "###################\n"
     ]
    }
   ],
   "source": [
    "primero = 3\n",
    "\n",
    "while primero <= 7:\n",
    "    print (\"Tabla del \" + str (primero))\n",
    "    segundo = 1\n",
    "    while segundo <= 10:\n",
    "        print (str(primero) + \" X \" + str(segundo) + \" = \" + str(primero * segundo))\n",
    "        segundo += 1\n",
    "    primero += 1\n",
    "print (\"###################\")"
   ]
  },
  {
   "cell_type": "code",
   "execution_count": 6,
   "metadata": {
    "collapsed": true
   },
   "outputs": [
    {
     "name": "stdout",
     "output_type": "stream",
     "text": [
      "La lavadora se ha comida mi calcetín\n",
      "La lavadora se ha comida mi pantalón\n",
      "La lavadora se ha comida mi camisa\n",
      "La lavadora se ha comida mi camiseta\n",
      "La lavadora se ha comida mi otro calcetín\n",
      "La lavadora se ha comida mi gorra\n"
     ]
    }
   ],
   "source": [
    "lista = [\"calcetín\", \"pantalón\", \"camisa\", \"camiseta\", \"otro calcetín\", \"gorra\"]\n",
    "\n",
    "for prenda in lista:\n",
    "    print (\"La lavadora se ha comida mi \" + prenda)"
   ]
  },
  {
   "cell_type": "code",
   "execution_count": 8,
   "metadata": {
    "collapsed": true
   },
   "outputs": [
    {
     "name": "stdout",
     "output_type": "stream",
     "text": [
      "H\n",
      "o\n",
      "l\n",
      "a\n",
      " \n",
      "M\n",
      "u\n",
      "n\n",
      "d\n",
      "o\n"
     ]
    }
   ],
   "source": [
    "saludo = \"Hola Mundo\"\n",
    "\n",
    "for letra in saludo:\n",
    "    print (letra)"
   ]
  },
  {
   "cell_type": "code",
   "execution_count": 12,
   "metadata": {
    "collapsed": true
   },
   "outputs": [
    {
     "name": "stdout",
     "output_type": "stream",
     "text": [
      "Nombre: José\n",
      "Apellido: González\n",
      "Altura: 1,70\n"
     ]
    }
   ],
   "source": [
    "datos = {\"Nombre\": \"José\", \"Apellido\": \"González\", \"Altura\": \"1,70\"} \n",
    "\n",
    "for concepto in datos:\n",
    "    print (concepto + \": \" + datos[concepto])"
   ]
  },
  {
   "cell_type": "code",
   "execution_count": 17,
   "metadata": {
    "collapsed": true
   },
   "outputs": [
    {
     "name": "stdout",
     "output_type": "stream",
     "text": [
      "Nombre: José\n",
      "Apellido: González\n",
      "Altura: 1,70\n"
     ]
    }
   ],
   "source": [
    "datos = {\"Nombre\": \"José\", \"Apellido\": \"González\", \"Altura\": \"1,70\"} \n",
    "\n",
    "for concepto, valor in datos.items() :\n",
    "    print (concepto + \": \" + valor)"
   ]
  },
  {
   "cell_type": "code",
   "execution_count": 19,
   "metadata": {
    "collapsed": true
   },
   "outputs": [
    {
     "ename": "ZeroDivisionError",
     "evalue": "division by zero",
     "output_type": "error",
     "traceback": [
      "\u001b[1;31m---------------------------------------------------------------------------\u001b[0m",
      "\u001b[1;31mZeroDivisionError\u001b[0m                         Traceback (most recent call last)",
      "\u001b[1;32m<ipython-input-19-3ccbadc9b620>\u001b[0m in \u001b[0;36m<module>\u001b[1;34m\u001b[0m\n\u001b[0;32m      2\u001b[0m \u001b[0mdivisor\u001b[0m \u001b[1;33m=\u001b[0m \u001b[1;36m0\u001b[0m\u001b[1;33m\u001b[0m\u001b[1;33m\u001b[0m\u001b[0m\n\u001b[0;32m      3\u001b[0m \u001b[1;33m\u001b[0m\u001b[0m\n\u001b[1;32m----> 4\u001b[1;33m \u001b[0mresultado\u001b[0m \u001b[1;33m=\u001b[0m \u001b[0mdividendo\u001b[0m\u001b[1;33m/\u001b[0m\u001b[0mdivisor\u001b[0m\u001b[1;33m\u001b[0m\u001b[1;33m\u001b[0m\u001b[0m\n\u001b[0m\u001b[0;32m      5\u001b[0m \u001b[0mprint\u001b[0m \u001b[1;33m(\u001b[0m\u001b[1;34m\"La división resulta: \"\u001b[0m\u001b[1;33m,\u001b[0m \u001b[0mresultado\u001b[0m\u001b[1;33m)\u001b[0m\u001b[1;33m\u001b[0m\u001b[1;33m\u001b[0m\u001b[0m\n\u001b[0;32m      6\u001b[0m \u001b[0mprint\u001b[0m \u001b[1;33m(\u001b[0m\u001b[1;34m\"The End\"\u001b[0m\u001b[1;33m)\u001b[0m\u001b[1;33m\u001b[0m\u001b[1;33m\u001b[0m\u001b[0m\n",
      "\u001b[1;31mZeroDivisionError\u001b[0m: division by zero"
     ]
    }
   ],
   "source": [
    "dividendo = 1\n",
    "divisor = 0\n",
    "\n",
    "resultado = dividendo/divisor\n",
    "print (\"La división resulta: \", resultado)\n",
    "print (\"The End\")"
   ]
  },
  {
   "cell_type": "code",
   "execution_count": 21,
   "metadata": {
    "collapsed": true
   },
   "outputs": [
    {
     "name": "stdout",
     "output_type": "stream",
     "text": [
      "No se puede dividir por cero, animal.\n",
      "The End\n"
     ]
    }
   ],
   "source": [
    "dividendo = 1\n",
    "divisor = 0\n",
    "\n",
    "try:\n",
    "    resultado = dividendo/divisor\n",
    "    print (\"La división resulta: \", resultado)\n",
    "except:\n",
    "    if divisor == 0:\n",
    "        print (\"No se puede dividir por cero, animal.\")\n",
    "print (\"The End\")"
   ]
  },
  {
   "cell_type": "code",
   "execution_count": null,
   "metadata": {},
   "outputs": [],
   "source": []
  },
  {
   "cell_type": "code",
   "execution_count": 23,
   "metadata": {
    "collapsed": true
   },
   "outputs": [
    {
     "name": "stdout",
     "output_type": "stream",
     "text": [
      "Eso no es un número, animal.\n",
      "The End\n"
     ]
    }
   ],
   "source": [
    "dividendo = \"A\"\n",
    "divisor = 2\n",
    "\n",
    "try:\n",
    "    resultado = dividendo/divisor\n",
    "    print (\"La división resulta: \", resultado)\n",
    "except ZeroDivisionError:\n",
    "    if divisor == 0:\n",
    "        print (\"No se puede dividir por cero, animal.\")\n",
    "except TypeError:\n",
    "        print (\"Eso no es un número, animal.\")\n",
    "print (\"The End\")"
   ]
  },
  {
   "cell_type": "code",
   "execution_count": 3,
   "metadata": {
    "collapsed": true
   },
   "outputs": [
    {
     "name": "stdout",
     "output_type": "stream",
     "text": [
      "Hola Mundo\n",
      "aquí estamos.\n",
      "Pefecto!!!\n"
     ]
    }
   ],
   "source": [
    "def saluda():\n",
    "    print (\"Hola Mundo\")\n",
    "    print (\"aquí estamos.\")\n",
    "    print (\"Pefecto!!!\")\n",
    "saluda()"
   ]
  },
  {
   "cell_type": "code",
   "execution_count": 5,
   "metadata": {
    "collapsed": true
   },
   "outputs": [
    {
     "name": "stdout",
     "output_type": "stream",
     "text": [
      "3.141592\n"
     ]
    }
   ],
   "source": [
    "def dame_pi():\n",
    "    numero_pi = 3.141592\n",
    "    return numero_pi\n",
    "pi = dame_pi()\n",
    "print (pi)"
   ]
  },
  {
   "cell_type": "code",
   "execution_count": 7,
   "metadata": {
    "collapsed": true
   },
   "outputs": [
    {
     "name": "stdout",
     "output_type": "stream",
     "text": [
      "3.141592\n"
     ]
    }
   ],
   "source": [
    "def dame_pi():\n",
    "    numero_pi = 3.141592\n",
    "    return numero_pi\n",
    "print (dame_pi())"
   ]
  },
  {
   "cell_type": "code",
   "execution_count": 1,
   "metadata": {
    "collapsed": true
   },
   "outputs": [
    {
     "name": "stdout",
     "output_type": "stream",
     "text": [
      "100\n",
      "49\n"
     ]
    }
   ],
   "source": [
    "def cuadrado(numero):\n",
    "    cuadrado = numero * numero\n",
    "    return cuadrado\n",
    "    \n",
    "print (cuadrado(10))\n",
    "print (cuadrado(7))"
   ]
  },
  {
   "cell_type": "code",
   "execution_count": 5,
   "metadata": {
    "collapsed": true
   },
   "outputs": [
    {
     "name": "stdout",
     "output_type": "stream",
     "text": [
      "Tabla de multiplicar del 7\n",
      "Impresa automáticamente por Pedro\n",
      "7 X 0 = 0\n",
      "7 X 1 = 7\n",
      "7 X 2 = 14\n",
      "7 X 3 = 21\n",
      "7 X 4 = 28\n",
      "7 X 5 = 35\n",
      "7 X 6 = 42\n",
      "7 X 7 = 49\n",
      "7 X 8 = 56\n",
      "7 X 9 = 63\n",
      "7 X 10 = 70\n"
     ]
    }
   ],
   "source": [
    "def tabla_multiplicar (nombre, numero = 1):\n",
    "    print (\"Tabla de multiplicar del \" + str (numero))\n",
    "    print (\"Impresa automáticamente por \" + nombre)\n",
    "    \n",
    "    i = 0\n",
    "    while i < 11:\n",
    "        print (str(numero) + \" X \" + str(i) + \" = \" + str(numero * i))\n",
    "        i += 1\n",
    "\n",
    "tabla_multiplicar (\"Pedro\", 7)"
   ]
  },
  {
   "cell_type": "code",
   "execution_count": 6,
   "metadata": {
    "collapsed": true
   },
   "outputs": [
    {
     "name": "stdout",
     "output_type": "stream",
     "text": [
      "Lista de Piezas\n",
      "tornillo\n",
      "tuerca\n",
      "otro tornillo\n",
      "cable\n",
      "termómetro\n"
     ]
    }
   ],
   "source": [
    "def imprime_lista (nombre_lista, *cosas):\n",
    "    print (\"Lista de \" + nombre_lista)\n",
    "    \n",
    "    for cosa in cosas:\n",
    "        print (cosa)\n",
    "\n",
    "imprime_lista (\"Piezas\", \"tornillo\", \"tuerca\", \"otro tornillo\", \"cable\", \"termómetro\")"
   ]
  },
  {
   "cell_type": "code",
   "execution_count": 18,
   "metadata": {
    "collapsed": true
   },
   "outputs": [
    {
     "name": "stdout",
     "output_type": "stream",
     "text": [
      "Datos de Pablo\n",
      "edad: mucha\n",
      "estado: Uyyyy\n",
      "agradable: A veces\n"
     ]
    }
   ],
   "source": [
    "def imprime_datos (nombre, **datos):\n",
    "    print (\"Datos de \" + nombre)\n",
    "    for clave in datos:\n",
    "        print (clave + \": \" + datos[clave])\n",
    "\n",
    "imprime_datos (\"Pablo\", edad = \"mucha\", estado = \"Uyyyy\", agradable = \"A veces\")"
   ]
  },
  {
   "cell_type": "code",
   "execution_count": 20,
   "metadata": {},
   "outputs": [
    {
     "name": "stdout",
     "output_type": "stream",
     "text": [
      "dentro de la función\n",
      "fuera de la función\n"
     ]
    }
   ],
   "source": [
    "variable = \"fuera de la función\"\n",
    "\n",
    "def una_funcion():\n",
    "    variable = \"dentro de la función\"\n",
    "    print (variable)\n",
    "\n",
    "una_funcion()\n",
    "\n",
    "print (variable)"
   ]
  },
  {
   "cell_type": "code",
   "execution_count": 21,
   "metadata": {
    "collapsed": true
   },
   "outputs": [
    {
     "name": "stdout",
     "output_type": "stream",
     "text": [
      "fuera de la función\n",
      "fuera de la función\n"
     ]
    }
   ],
   "source": [
    "variable = \"fuera de la función\"\n",
    "\n",
    "def una_funcion():\n",
    "    # no asignamos valor a la variable\n",
    "    print (variable)\n",
    "\n",
    "una_funcion()\n",
    "\n",
    "print (variable)"
   ]
  },
  {
   "cell_type": "code",
   "execution_count": 22,
   "metadata": {
    "collapsed": true
   },
   "outputs": [
    {
     "name": "stdout",
     "output_type": "stream",
     "text": [
      "dentro de la función\n",
      "dentro de la función\n"
     ]
    }
   ],
   "source": [
    "# Sin embargo, se pueden declarar variables globales dentro de una función\n",
    "\n",
    "variable = \"fuera de la función\"\n",
    "\n",
    "def una_funcion():\n",
    "    global variable \n",
    "    variable = \"dentro de la función\"\n",
    "    print (variable)\n",
    "\n",
    "una_funcion()\n",
    "\n",
    "print (variable)\n"
   ]
  },
  {
   "cell_type": "code",
   "execution_count": 1,
   "metadata": {
    "collapsed": true
   },
   "outputs": [
    {
     "name": "stdout",
     "output_type": "stream",
     "text": [
      "El número mayor es 100\n"
     ]
    },
    {
     "data": {
      "text/plain": [
       "1"
      ]
     },
     "execution_count": 1,
     "metadata": {},
     "output_type": "execute_result"
    }
   ],
   "source": [
    "\"\"\" Esta función se utiliza para comparar dos \n",
    "números indicando cuál es el mayor de ambos\"\"\"\n",
    "\n",
    "def compara_numeros (n1, n2):\n",
    "    if (n1 > n2):\n",
    "        print (\"El número mayor es \" + str(n1))\n",
    "        return 1\n",
    "    elif (n1 < n2):\n",
    "        print (\"El número mayor es \" + str(n2))\n",
    "        return 2\n",
    "    else:\n",
    "        print (\"Ambos números son iguales\" + str(n1))\n",
    "        return 0\n",
    "compara_numeros (100, 7) "
   ]
  },
  {
   "cell_type": "code",
   "execution_count": 7,
   "metadata": {
    "collapsed": true
   },
   "outputs": [
    {
     "name": "stdout",
     "output_type": "stream",
     "text": [
      "1\n",
      "2\n",
      "3\n",
      "4\n",
      "5\n",
      "6\n",
      "7\n",
      "8\n",
      "9\n",
      "10\n"
     ]
    }
   ],
   "source": [
    "\"\"\" En este caso se genera la lista, después se hace un return \n",
    "y por último un bucle for para su impresión, con \n",
    "el consiguiente tiempo de proceso y almacenamiento\"\"\"\n",
    "\n",
    "def genera_lista(num):\n",
    "    \n",
    "    lista = []\n",
    "    i = 1\n",
    "    while i <= num:\n",
    "        lista.append (i)\n",
    "        i += 1\n",
    "    return lista\n",
    "\n",
    "for i in genera_lista(10):\n",
    "    print (i)"
   ]
  },
  {
   "cell_type": "code",
   "execution_count": 30,
   "metadata": {
    "collapsed": true
   },
   "outputs": [
    {
     "name": "stdout",
     "output_type": "stream",
     "text": [
      "1\n",
      "2\n",
      "3\n",
      "4\n",
      "5\n",
      "6\n"
     ]
    }
   ],
   "source": [
    "\"\"\" Si utilizamos un generador nos ayudará a devolver un valor cada vez\"\"\"\n",
    "\n",
    "def genera_lista(num):\n",
    "    lista = []\n",
    "    i = 1\n",
    "    while i <= num:\n",
    "        yield i\n",
    "        i += 1\n",
    "lista = genera_lista (6)\n",
    "\n",
    "for i in genera_lista(6):\n",
    "    print (i)"
   ]
  },
  {
   "cell_type": "code",
   "execution_count": 2,
   "metadata": {
    "collapsed": true
   },
   "outputs": [
    {
     "name": "stdout",
     "output_type": "stream",
     "text": [
      "Buenos días, guapo\n",
      "Que tengas un buen día\n",
      "Buenos días, guapa\n",
      "Que tengas un buen día\n"
     ]
    }
   ],
   "source": [
    "def decorador(funcion_entrada):\n",
    "    def funcion_salida (param):\n",
    "        if param == \"Lidia\":\n",
    "            print (\"Buenos días, guapa\")\n",
    "        elif param == \"Pablo\":\n",
    "            print (\"Buenos días, guapo\")\n",
    "        else:\n",
    "            funcion_entrada(param)\n",
    "        print (\"Que tengas un buen día\")\n",
    "    return funcion_salida \n",
    "\n",
    "@decorador\n",
    "def saludo(nombre):\n",
    "    print (\"Hola \" + nombre)\n",
    "    \n",
    "saludo (\"Pablo\")\n",
    "saludo (\"Lidia\")"
   ]
  },
  {
   "cell_type": "code",
   "execution_count": 33,
   "metadata": {
    "collapsed": true
   },
   "outputs": [
    {
     "name": "stdout",
     "output_type": "stream",
     "text": [
      "8\n"
     ]
    }
   ],
   "source": [
    "def max_de_tres (n1, n2, n3):\n",
    "    if n1 > n2 and n1 > n3:\n",
    "        print (n1)\n",
    "    elif n2 > n1 and n2 > n3:\n",
    "        print (n2)\n",
    "    elif n3 > n1 and n3 > n2:\n",
    "        print (n3)\n",
    "    else:\n",
    "        print (\"Son iguales\")\n",
    "\n",
    "max_de_tres (4, 8, 2)\n",
    "        "
   ]
  },
  {
   "cell_type": "code",
   "execution_count": 38,
   "metadata": {
    "collapsed": true
   },
   "outputs": [
    {
     "data": {
      "text/plain": [
       "False"
      ]
     },
     "execution_count": 38,
     "metadata": {},
     "output_type": "execute_result"
    }
   ],
   "source": [
    "def es_vocal (x):\n",
    "    if x == \"a\" or x == \"e\" or x == \"i\" or x == \"o\" or x == \"u\":\n",
    "        return True\n",
    "    elif x == \"A\" or x == \"E\" or x == \"I\" or x == \"O\" or x == \"U\":\n",
    "        return True\n",
    "    else:\n",
    "        return False\n",
    "\n",
    "es_vocal(\"p\")"
   ]
  },
  {
   "cell_type": "code",
   "execution_count": 42,
   "metadata": {
    "collapsed": true
   },
   "outputs": [
    {
     "data": {
      "text/plain": [
       "15"
      ]
     },
     "execution_count": 42,
     "metadata": {},
     "output_type": "execute_result"
    }
   ],
   "source": [
    "def sum (lista):\n",
    "    suma = 0\n",
    "    for i in lista:\n",
    "        suma += i\n",
    "    return (suma)\n",
    "       \n",
    "   \n",
    "def multip (lista):\n",
    "    multiplicacion = 1\n",
    "    for i in lista:\n",
    "        multiplicacion *= i\n",
    "    return (multiplicacion)\n",
    "\n",
    "sum ([1,2,3,4,5])\n"
   ]
  },
  {
   "cell_type": "code",
   "execution_count": 43,
   "metadata": {
    "collapsed": true
   },
   "outputs": [
    {
     "data": {
      "text/plain": [
       "120"
      ]
     },
     "execution_count": 43,
     "metadata": {},
     "output_type": "execute_result"
    }
   ],
   "source": [
    "multip ([1,2,3,4,5])"
   ]
  },
  {
   "cell_type": "code",
   "execution_count": 8,
   "metadata": {},
   "outputs": [],
   "source": [
    "def main():\n",
    "    a_curso = input (\"Ingresa el año en curso: \")\n",
    "    for i  in range (3):\n",
    "        nombre = input (\"Nombre de la persona: \")\n",
    "        nacimiento = input (\"Año de nacimiento: \")\n",
    "        print  (nombre, \"cumple\", int(a_curso) - int(nacimiento), \"años en el\", a_curso)"
   ]
  },
  {
   "cell_type": "code",
   "execution_count": null,
   "metadata": {},
   "outputs": [],
   "source": []
  },
  {
   "cell_type": "code",
   "execution_count": 9,
   "metadata": {
    "collapsed": true
   },
   "outputs": [
    {
     "name": "stdout",
     "output_type": "stream",
     "text": [
      "Ingresa el año en curso: 2020\n",
      "Nombre de la persona: Gabriel\n",
      "Año de nacimiento: 1999\n",
      "Gabriel cumple 21 años en el 2020\n",
      "Nombre de la persona: Pedro\n",
      "Año de nacimiento: 1933\n",
      "Pedro cumple 87 años en el 2020\n",
      "Nombre de la persona: Adela\n",
      "Año de nacimiento: 1977\n",
      "Adela cumple 43 años en el 2020\n"
     ]
    }
   ],
   "source": [
    "main()"
   ]
  },
  {
   "cell_type": "code",
   "execution_count": null,
   "metadata": {},
   "outputs": [],
   "source": [
    "2020, \"Gabriel\", 1966"
   ]
  },
  {
   "cell_type": "code",
   "execution_count": 67,
   "metadata": {
    "collapsed": true
   },
   "outputs": [
    {
     "name": "stdout",
     "output_type": "stream",
     "text": [
      "357\n"
     ]
    }
   ],
   "source": [
    "numero = 0x165\n",
    "print (numero)"
   ]
  },
  {
   "cell_type": "code",
   "execution_count": 65,
   "metadata": {
    "collapsed": true
   },
   "outputs": [
    {
     "name": "stdout",
     "output_type": "stream",
     "text": [
      "(34+5j)\n"
     ]
    }
   ],
   "source": [
    "numero = 34 + 5j\n",
    "\n",
    "print (numero)"
   ]
  },
  {
   "cell_type": "code",
   "execution_count": 66,
   "metadata": {
    "collapsed": true
   },
   "outputs": [
    {
     "name": "stdout",
     "output_type": "stream",
     "text": [
      "9\n"
     ]
    }
   ],
   "source": [
    "numero = 0b1001\n",
    "print (numero)"
   ]
  },
  {
   "cell_type": "code",
   "execution_count": 68,
   "metadata": {
    "collapsed": true
   },
   "outputs": [
    {
     "name": "stdout",
     "output_type": "stream",
     "text": [
      "1200000.0\n"
     ]
    }
   ],
   "source": [
    "numero = 12e5\n",
    "print (numero)"
   ]
  }
 ],
 "metadata": {
  "kernelspec": {
   "display_name": "Python 3",
   "language": "python",
   "name": "python3"
  },
  "language_info": {
   "codemirror_mode": {
    "name": "ipython",
    "version": 3
   },
   "file_extension": ".py",
   "mimetype": "text/x-python",
   "name": "python",
   "nbconvert_exporter": "python",
   "pygments_lexer": "ipython3",
   "version": "3.7.4"
  }
 },
 "nbformat": 4,
 "nbformat_minor": 2
}
